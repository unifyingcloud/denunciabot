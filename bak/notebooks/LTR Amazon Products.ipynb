{
 "cells": [
  {
   "cell_type": "code",
   "execution_count": 1,
   "metadata": {},
   "outputs": [],
   "source": [
    "import pandas as pd\n",
    "import os\n",
    "import csv\n",
    "import json\n",
    "import lightgbm as lgb\n",
    "from sklearn.datasets import load_svmlight_file\n",
    "from collections import OrderedDict, deque, Counter\n",
    "import numpy as np\n",
    "import scipy\n",
    "import sklearn\n",
    "from tabulate import tabulate\n",
    "import pickle\n",
    "import itertools\n",
    "from sklearn import preprocessing\n",
    "from bayes_opt import BayesianOptimization\n",
    "import warnings\n",
    "from datetime import datetime"
   ]
  },
  {
   "cell_type": "code",
   "execution_count": 2,
   "metadata": {},
   "outputs": [],
   "source": [
    "%matplotlib inline\n",
    "import matplotlib\n",
    "import matplotlib.pyplot as plt\n",
    "from matplotlib.legend_handler import HandlerLine2D\n",
    "\n",
    "pd.set_option('display.float_format', lambda x: '%.3f' % x)\n",
    "import matplotlib.pyplot as plt\n",
    "import seaborn as sns\n",
    "\n",
    "matplotlib.style.use('seaborn')\n",
    "plt.style.use(\"seaborn\")\n",
    "markers = [\".\", \"*\", \">\", \"o\", \"v\", \"^\", \"<\", \"s\", \"p\", \"h\", \"H\", \"D\", \"d\", \"|\", \"_\"]\n",
    "font = {'weight': 'normal',\n",
    "        'size': 14}\n",
    "\n",
    "matplotlib.rcParams['pdf.fonttype'] = 42\n",
    "matplotlib.rcParams['ps.fonttype'] = 42\n",
    "\n",
    "matplotlib.rc('font', **font)\n",
    "matplotlib.rcParams.update({'font.size': 28})\n",
    "matplotlib.rcParams.update({'legend.fontsize': 20})\n",
    "matplotlib.rcParams.update({'xtick.labelsize': 28, 'ytick.labelsize': 28, })"
   ]
  },
  {
   "cell_type": "code",
   "execution_count": 3,
   "metadata": {},
   "outputs": [],
   "source": [
    "def dcg_score(y_true, y_score, k=10, gains=\"exponential\"):\n",
    "    \"\"\"Discounted cumulative gain (DCG) at rank k\n",
    "    Parameters\n",
    "    ----------\n",
    "    y_true : array-like, shape = [n_samples]\n",
    "        Ground truth (true relevance labels).\n",
    "    y_score : array-like, shape = [n_samples]\n",
    "        Predicted scores.\n",
    "    k : int\n",
    "        Rank.\n",
    "    gains : str\n",
    "        Whether gains should be \"exponential\" (default) or \"linear\".\n",
    "    Returns\n",
    "    -------\n",
    "    DCG @k : float\n",
    "    \"\"\"\n",
    "    order = np.argsort(y_score)[::-1]\n",
    "    y_true = np.take(y_true, order[:k])\n",
    "\n",
    "    if gains == \"exponential\":\n",
    "        gains = 2 ** y_true - 1\n",
    "    elif gains == \"linear\":\n",
    "        gains = y_true\n",
    "    else:\n",
    "        raise ValueError(\"Invalid gains option.\")\n",
    "\n",
    "    # highest rank is 1 so +2 instead of +1\n",
    "    discounts = np.log2(np.arange(len(y_true)) + 2)\n",
    "    return np.sum(gains / discounts)\n",
    "\n",
    "\n",
    "def ndcg_score(y_true, y_score, k=10, gains=\"exponential\"):\n",
    "    \"\"\"Normalized discounted cumulative gain (NDCG) at rank k\n",
    "    Parameters\n",
    "    ----------\n",
    "    y_true : array-like, shape = [n_samples]\n",
    "        Ground truth (true relevance labels).\n",
    "    y_score : array-like, shape = [n_samples]\n",
    "        Predicted scores.\n",
    "    k : int\n",
    "        Rank.\n",
    "    gains : str\n",
    "        Whether gains should be \"exponential\" (default) or \"linear\".\n",
    "    Returns\n",
    "    -------\n",
    "    NDCG @k : float\n",
    "    \"\"\"\n",
    "    best = dcg_score(y_true, y_true, k, gains)\n",
    "    actual = dcg_score(y_true, y_score, k, gains)\n",
    "    return actual / best\n",
    "\n",
    "\n",
    "# Alternative API.\n",
    "\n",
    "def dcg_from_ranking(y_true, ranking):\n",
    "    \"\"\"Discounted cumulative gain (DCG) at rank k\n",
    "    Parameters\n",
    "    ----------\n",
    "    y_true : array-like, shape = [n_samples]\n",
    "        Ground truth (true relevance labels).\n",
    "    ranking : array-like, shape = [k]\n",
    "        Document indices, i.e.,\n",
    "            ranking[0] is the index of top-ranked document,\n",
    "            ranking[1] is the index of second-ranked document,\n",
    "            ...\n",
    "    k : int\n",
    "        Rank.\n",
    "    Returns\n",
    "    -------\n",
    "    DCG @k : float\n",
    "    \"\"\"\n",
    "    y_true = np.asarray(y_true)\n",
    "    ranking = np.asarray(ranking)\n",
    "    rel = y_true[ranking]\n",
    "    gains = 2 ** rel - 1\n",
    "    discounts = np.log2(np.arange(len(ranking)) + 2)\n",
    "    return np.sum(gains / discounts)\n",
    "\n",
    "\n",
    "def ndcg_from_ranking(y_true, ranking):\n",
    "    \"\"\"Normalized discounted cumulative gain (NDCG) at rank k\n",
    "    Parameters\n",
    "    ----------\n",
    "    y_true : array-like, shape = [n_samples]\n",
    "        Ground truth (true relevance labels).\n",
    "    ranking : array-like, shape = [k]\n",
    "        Document indices, i.e.,\n",
    "            ranking[0] is the index of top-ranked document,\n",
    "            ranking[1] is the index of second-ranked document,\n",
    "            ...\n",
    "    k : int\n",
    "        Rank.\n",
    "    Returns\n",
    "    -------\n",
    "    NDCG @k : float\n",
    "    \"\"\"\n",
    "    k = len(ranking)\n",
    "    best_ranking = np.argsort(y_true)[::-1]\n",
    "    best = dcg_from_ranking(y_true, best_ranking[:k])\n",
    "    return dcg_from_ranking(y_true, ranking) / best"
   ]
  },
  {
   "cell_type": "code",
   "execution_count": 4,
   "metadata": {},
   "outputs": [],
   "source": [
    "today = datetime.now().strftime(\"%Y_%m_%d\")"
   ]
  },
  {
   "cell_type": "code",
   "execution_count": 5,
   "metadata": {},
   "outputs": [],
   "source": [
    "df_promotions = pd.read_excel(\"D:/Onedrive/Private/descuentos_ninja/promotions/amazon/amazon_promotions_\" + today + \".xlsx\", sheet_name=None)\n",
    "df_nodes =df_promotions[\"categories\"]\n",
    "df_promotions =df_promotions[\"promotions\"]\n",
    "df_promotions_hot = pd.read_excel(\"D:/Onedrive/Private/descuentos_ninja/promotions/amazon/amazon_promotions_hot_\" + today + \".xlsx\")"
   ]
  },
  {
   "cell_type": "code",
   "execution_count": 6,
   "metadata": {},
   "outputs": [],
   "source": [
    "df_promotions_hot = df_promotions_hot.query(\"rss_type == 'bestsellers' and availability_type == 'now'\")\n",
    "df_promotions = df_promotions.query(\"availability_type == 'now'\")\n",
    "df_promotions = df_promotions.groupby([\"asin\",\"root_node\"]).head(1)\n",
    "df_promotions = df_promotions[~df_promotions['sales_rank'].isnull()]\n",
    "df_promotions = df_promotions[~df_promotions['root_node'].isnull()]\n",
    "df_promotions['sales_rank'] = df_promotions['sales_rank'].astype(int)"
   ]
  },
  {
   "cell_type": "code",
   "execution_count": 7,
   "metadata": {},
   "outputs": [],
   "source": [
    "hot_asins = set(df_promotions_hot.asin.unique())\n",
    "df_promotions[\"relevance\"] = df_promotions[\"asin\"].apply(lambda x: 1 if x in hot_asins else 0)"
   ]
  },
  {
   "cell_type": "code",
   "execution_count": 14,
   "metadata": {
    "scrolled": false
   },
   "outputs": [],
   "source": [
    "df_promotions_top10 = df_promotions.sort_values([\"root_node\",\"sales_rank\"], ascending=True).groupby(\"root_node\").head(20)\n",
    "writer = pd.ExcelWriter('D:/Onedrive/Private/descuentos_ninja/promotions/amazon/amazon_promotions_top20_' + today +'.xlsx')\n",
    "df_promotions_top10.sort_values([\"root_node\",\"sales_rank\"], ascending=True).to_excel(writer)\n",
    "writer.save()"
   ]
  },
  {
   "cell_type": "code",
   "execution_count": 15,
   "metadata": {
    "scrolled": false
   },
   "outputs": [],
   "source": [
    "df_promotions_top10 = df_promotions.sort_values([\"root_node\",\"sales_rank\"], ascending=True).groupby(\"root_node\").head(1)\n",
    "writer = pd.ExcelWriter('D:/Onedrive/Private/descuentos_ninja/promotions/amazon/amazon_promotions_top1_' + today +'.xlsx')\n",
    "df_promotions_top10.sort_values([\"root_node\",\"sales_rank\"], ascending=True).to_excel(writer)\n",
    "writer.save()"
   ]
  },
  {
   "cell_type": "code",
   "execution_count": null,
   "metadata": {},
   "outputs": [],
   "source": []
  }
 ],
 "metadata": {
  "kernelspec": {
   "display_name": "descuentos",
   "language": "python",
   "name": "descuentos"
  },
  "language_info": {
   "codemirror_mode": {
    "name": "ipython",
    "version": 3
   },
   "file_extension": ".py",
   "mimetype": "text/x-python",
   "name": "python",
   "nbconvert_exporter": "python",
   "pygments_lexer": "ipython3",
   "version": "3.5.4"
  }
 },
 "nbformat": 4,
 "nbformat_minor": 2
}
