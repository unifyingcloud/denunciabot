{
 "cells": [
  {
   "cell_type": "code",
   "execution_count": 109,
   "metadata": {},
   "outputs": [],
   "source": [
    "import requests\n",
    "import pandas as pd"
   ]
  },
  {
   "cell_type": "code",
   "execution_count": 150,
   "metadata": {},
   "outputs": [],
   "source": [
    "cities = pd.read_json(\"D:/Onedrive/Private/descuentos_ninja/promotions/travelpayouts/cities.json\").rename(columns={\"code\":\"city_code\",\"name\":\"city_name\"})\n",
    "countries = pd.read_json(\"D:/Onedrive/Private/descuentos_ninja/promotions/travelpayouts/countries.json\").rename(columns={\"code\":\"country_code\",\"name\":\"country_name\"})\n",
    "airports = pd.read_json(\"D:/Onedrive/Private/descuentos_ninja/promotions/travelpayouts/airports.json\").rename(columns={\"code\":\"airport_code\",\"name\":\"airport_name\"})\n",
    "airports = airports.merge(cities[[\"city_code\",\"city_name\"]],on=\"city_code\").merge(countries[[\"country_code\",\"country_name\"]],on=\"country_code\")"
   ]
  },
  {
   "cell_type": "code",
   "execution_count": 231,
   "metadata": {},
   "outputs": [],
   "source": [
    "token = \"473b5d6d464bd6b41039a793249d7ab8\""
   ]
  },
  {
   "cell_type": "code",
   "execution_count": 250,
   "metadata": {},
   "outputs": [],
   "source": [
    "url = \"http://api.travelpayouts.com/v2/prices/latest\"\n",
    "df_latest_all = []\n",
    "for page in range(1,10):\n",
    "    data = {'origin':'MEX',\n",
    "    'currency':'mxn',\n",
    "    \"page\":str(page),\n",
    "    \"limit\":\"1000\"}\n",
    "    res = requests.get(url=url,  headers={'X-Access-Token': token, 'Accept-Encoding': 'gzip, deflate'}, params=data)\n",
    "    latest = res.json()\n",
    "    df_latest = pd.DataFrame.from_dict(latest[\"data\"])\n",
    "    df_latest_all.append(df_latest)\n",
    "df_latest_all = pd.concat(df_latest_all)"
   ]
  },
  {
   "cell_type": "code",
   "execution_count": 258,
   "metadata": {},
   "outputs": [],
   "source": [
    "sort = ['city_name_from',\n",
    "'country_name_from',\n",
    "'city_name_to',\n",
    "'country_name_to',\n",
    "'depart_date',\n",
    "'return_date',\n",
    "'trip_class',\n",
    "'value',\n",
    "'actual',\n",
    "'destination',\n",
    "'distance',\n",
    "'duration',\n",
    "'found_at',\n",
    "'gate',\n",
    "'number_of_changes',\n",
    "'origin',\n",
    "'show_to_affiliates',\n",
    "'city_code_from',\n",
    "'airport_code_from',\n",
    "'coordinates_from',\n",
    "'country_code_from',\n",
    "'flightable_from',\n",
    "'airport_name_from',\n",
    "'name_translations_from',\n",
    "'time_zone_from',\n",
    "'city_code_to',\n",
    "'airport_code_to',\n",
    "'coordinates_to',\n",
    "'country_code_to',\n",
    "'flightable_to',\n",
    "'airport_name_to',\n",
    "'name_translations_to',\n",
    "'time_zone_to']"
   ]
  },
  {
   "cell_type": "code",
   "execution_count": 261,
   "metadata": {},
   "outputs": [],
   "source": [
    "df_latest_all_comb = df_latest_all.merge(airports, left_on=\"origin\", right_on=\"airport_code\").merge(airports, left_on=\"destination\", right_on=\"airport_code\",suffixes=(\"_from\",\"_to\"))\n",
    "df_latest_all_comb = df_latest_all_comb.sort_values([\"city_name_from\",\"city_name_to\"], ascending=False)[sort]\n",
    "df_latest_all_comb.to_csv(\"D:/Onedrive/Private/descuentos_ninja/promotions/travelpayouts/cheap_flights_test.csv\", index=False)"
   ]
  },
  {
   "cell_type": "code",
   "execution_count": 102,
   "metadata": {},
   "outputs": [],
   "source": [
    "url = 'http://api.travelpayouts.com/v2/prices/latest'"
   ]
  },
  {
   "cell_type": "code",
   "execution_count": 204,
   "metadata": {},
   "outputs": [],
   "source": [
    "df_latest_all = []\n",
    "for page in range(1,100):\n",
    "    data = {\"currency\":\"mxn\",\n",
    "    \"period_type\":\"year\",\n",
    "    \"page\":str(page),\n",
    "    \"limit\":\"1000\",\n",
    "    \"show_to_affiliates\":\"true\",\n",
    "    \"sorting\":\"price\",\n",
    "    \"trip_class\":\"0\",\n",
    "    \"token\":\"PutHereYourToken\"}\n",
    "    res = requests.get(url=url,  headers={'X-Access-Token': token, 'Accept-Encoding': 'gzip, deflate'}, params=data)\n",
    "    latest = res.json()\n",
    "    df_latest = pd.DataFrame.from_dict(latest[\"data\"])\n",
    "    df_latest_all.append(df_latest)\n",
    "df_latest_all = pd.concat(df_latest_all)"
   ]
  },
  {
   "cell_type": "code",
   "execution_count": 206,
   "metadata": {},
   "outputs": [],
   "source": [
    "df_latest_all = df_latest_all.merge(airports, left_on=\"destination\", right_on=\"airport_code\").merge(airports, left_on=\"origin\", right_on=\"airport_code\")"
   ]
  },
  {
   "cell_type": "code",
   "execution_count": 212,
   "metadata": {},
   "outputs": [],
   "source": [
    "df_latest_all = df_latest_all.sort_values([\"city_name_x\",\"city_name_y\"], ascending=False).query(\"country_code_x == 'MX'\")[[\"city_name_x\",\"city_name_y\",\"depart_date\",\"return_date\",\"value\"]]\n",
    "df_latest_all.to_csv(\"D:/Onedrive/Private/descuentos_ninja/promotions/travelpayouts/cheap_flights_test.csv\", index=False)"
   ]
  }
 ],
 "metadata": {
  "kernelspec": {
   "display_name": "descuentos",
   "language": "python",
   "name": "descuentos"
  },
  "language_info": {
   "codemirror_mode": {
    "name": "ipython",
    "version": 3
   },
   "file_extension": ".py",
   "mimetype": "text/x-python",
   "name": "python",
   "nbconvert_exporter": "python",
   "pygments_lexer": "ipython3",
   "version": "3.5.4"
  }
 },
 "nbformat": 4,
 "nbformat_minor": 2
}
