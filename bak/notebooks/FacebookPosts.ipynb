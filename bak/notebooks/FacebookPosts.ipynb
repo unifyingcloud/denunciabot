{
 "cells": [
  {
   "cell_type": "code",
   "execution_count": 6,
   "metadata": {
    "scrolled": true
   },
   "outputs": [],
   "source": [
    "\n",
    "import os\n",
    "import logging\n",
    "import datetime\n",
    "\n",
    "import facebookads\n",
    "from facebookads import FacebookAdsApi\n",
    "from facebookads.adobjects.campaign import Campaign\n",
    "from facebookads.adobjects.targetingsearch import TargetingSearch\n",
    "from facebookads.adobjects.targeting import Targeting\n",
    "from facebookads.adobjects.adaccount import AdAccount\n",
    "from facebookads.adobjects.adset import AdSet\n",
    "from facebookads.adobjects.adimage import AdImage\n",
    "from facebookads.adobjects.adcreative import AdCreative\n",
    "from facebookads.adobjects.adcreativelinkdata import AdCreativeLinkData\n",
    "from facebookads.adobjects.adcreativeobjectstoryspec import AdCreativeObjectStorySpec\n",
    "from facebookads.adobjects.ad import Ad \n",
    "from facebookads.session import FacebookSession\n",
    "\n",
    "\n",
    "my_app_id = '143859662981460'\n",
    "my_app_secret = '994fe71b9ff2a61127ecfad28e0354f3'\n",
    "my_access_token = 'EAAcx8J3ioXsBABVWZAjbKjnnuDxjBkQYRWR0bgP8nXcRzCueVMLl2Ls79Mb0PZBddMVBKAXXcULMlxk7yPZBfZBzUubvV8kOkBn8Wt0rnCcKS0W0KCEAYj4JSHLeWX4rumD6g4bZCZARfYLaeAJiPKZAb4hFwinr6z2tXdfgpGLwoYsjrCBELVWFQDdUWGQEHQ2tF8yv1ByD0tD5ZBtcofCw'\n",
    "\n",
    "# my_app_id = '749611728421122'\n",
    "# my_app_secret = '994fe71b9ff2a61127ecfad28e0354f3'\n",
    "# my_access_token = 'EAACC1vAcCVQBAFYwELOaSYZAwqNSoUDZBZBWeRaF1IMhDFLnK9EpbBW1ZCkXKqOYjVarEddsCN3rxSvIrb2KdJGYCiQek1uhBT4MLk7ZBsu8ixHlrKkNAtk6gvhxlyZCx7ZB06Gp92Hgx49zZAZCiQSaZC7gFbuxfmU3hq6f1OeO1urJ20qjGCyte9khPRYMqg29wZD'\n",
    "\n",
    "\n",
    "\n",
    "#//'proxies = {'http': '<HTTP_PROXY>', 'https': '<HTTPS_PROXY>'} # add proxies if needed\n",
    "FacebookAdsApi.init(my_app_id, my_app_secret, my_access_token)\n",
    "session = FacebookSession(my_app_id, my_app_secret, my_access_token)\n",
    "\n",
    "my_account = AdAccount.get_my_account()\n",
    " \n"
   ]
  },
  {
   "cell_type": "code",
   "execution_count": 7,
   "metadata": {},
   "outputs": [
    {
     "name": "stderr",
     "output_type": "stream",
     "text": [
      "WARNING:root:parent_id as a parameter of constructor is being deprecated.\n"
     ]
    },
    {
     "name": "stdout",
     "output_type": "stream",
     "text": [
      "<Campaign> {\n",
      "    \"effective_status\": \"PAUSED\",\n",
      "    \"id\": \"6100582754290\",\n",
      "    \"name\": \"My Campaign_jon\",\n",
      "    \"objective\": \"LINK_CLICKS\"\n",
      "}\n"
     ]
    }
   ],
   "source": [
    "campaign = Campaign(parent_id='act_{}'.format(my_account[\"account_id\"]))\n",
    "campaign.update({\n",
    "    Campaign.Field.name: 'My Campaign_jon',\n",
    "    Campaign.Field.objective: Campaign.Objective.link_clicks,\n",
    "})\n",
    "\n",
    "campaign.remote_create(params={\n",
    "    'status': Campaign.Status.paused,\n",
    "})\n",
    "\n",
    "link_data = AdCreativeLinkData()\n",
    "link_data[AdCreativeLinkData.Field.message] = 'try it out'\n",
    "link_data[AdCreativeLinkData.Field.link] = 'http://descuentos.ninja' \n",
    "link_data[AdCreativeLinkData.Field.image_hash] = '<IMAGE_HASH>'\n",
    "\n",
    " \n",
    "campaign.remote_read(fields=[\n",
    "    Campaign.Field.name,\n",
    "    Campaign.Field.effective_status,\n",
    "    Campaign.Field.objective,\n",
    "])\n",
    "\n",
    "print(campaign)\n",
    "\n"
   ]
  },
  {
   "cell_type": "code",
   "execution_count": 194,
   "metadata": {},
   "outputs": [
    {
     "name": "stderr",
     "output_type": "stream",
     "text": [
      "WARNING:root:parent_id as a parameter of constructor is being deprecated.\n",
      "WARNING:root:parent_id as a parameter of constructor is being deprecated.\n"
     ]
    },
    {
     "name": "stdout",
     "output_type": "stream",
     "text": [
      "9bc45e3b0a49e8cd0a63e3a38489f902\n"
     ]
    },
    {
     "ename": "FacebookRequestError",
     "evalue": "\n\n  Message: Call was not successful\n  Method:  POST\n  Path:    https://graph.facebook.com/v2.11/act_153402327/adcreatives\n  Params:  {'name': 'AdCreative for Link Ad', 'object_story_spec': '{\"link_data\":{\"image_hash\":\"9bc45e3b0a49e8cd0a63e3a38489f902\",\"link\":\"https://facebook.com\",\"message\":\"try it out\"},\"page_id\":1456225704491934}'}\n\n  Status:  400\n  Response:\n    {\n      \"error\": {\n        \"message\": \"Invalid parameter\",\n        \"type\": \"OAuthException\",\n        \"code\": 100,\n        \"error_subcode\": 1885183,\n        \"is_transient\": false,\n        \"error_user_title\": \"Ads creative post was created by an app that is in development mode\",\n        \"error_user_msg\": \"Ads creative post was created by an app that is in development mode. It must be in public to create this ad.\",\n        \"fbtrace_id\": \"BJQlZLR8+/z\"\n      }\n    }\n",
     "output_type": "error",
     "traceback": [
      "\u001b[0;31m---------------------------------------------------------------------------\u001b[0m",
      "\u001b[0;31mFacebookRequestError\u001b[0m                      Traceback (most recent call last)",
      "\u001b[0;32m<ipython-input-194-6b9c2eae12bd>\u001b[0m in \u001b[0;36m<module>\u001b[0;34m()\u001b[0m\n\u001b[1;32m     25\u001b[0m \u001b[0mcreative\u001b[0m\u001b[0;34m[\u001b[0m\u001b[0mAdCreative\u001b[0m\u001b[0;34m.\u001b[0m\u001b[0mField\u001b[0m\u001b[0;34m.\u001b[0m\u001b[0mname\u001b[0m\u001b[0;34m]\u001b[0m \u001b[0;34m=\u001b[0m \u001b[0;34m'AdCreative for Link Ad'\u001b[0m\u001b[0;34m\u001b[0m\u001b[0m\n\u001b[1;32m     26\u001b[0m \u001b[0mcreative\u001b[0m\u001b[0;34m[\u001b[0m\u001b[0mAdCreative\u001b[0m\u001b[0;34m.\u001b[0m\u001b[0mField\u001b[0m\u001b[0;34m.\u001b[0m\u001b[0mobject_story_spec\u001b[0m\u001b[0;34m]\u001b[0m \u001b[0;34m=\u001b[0m \u001b[0mobject_story_spec\u001b[0m\u001b[0;34m\u001b[0m\u001b[0m\n\u001b[0;32m---> 27\u001b[0;31m \u001b[0mcreative\u001b[0m\u001b[0;34m.\u001b[0m\u001b[0mremote_create\u001b[0m\u001b[0;34m(\u001b[0m\u001b[0;34m)\u001b[0m\u001b[0;34m\u001b[0m\u001b[0m\n\u001b[0m\u001b[1;32m     28\u001b[0m \u001b[0;34m\u001b[0m\u001b[0m\n\u001b[1;32m     29\u001b[0m \u001b[0mprint\u001b[0m\u001b[0;34m(\u001b[0m\u001b[0mcreative\u001b[0m\u001b[0;34m)\u001b[0m\u001b[0;34m\u001b[0m\u001b[0m\n",
      "\u001b[0;32m~/anaconda3/lib/python3.6/site-packages/facebookads/adobjects/abstractcrudobject.py\u001b[0m in \u001b[0;36mremote_create\u001b[0;34m(self, batch, failure, files, params, success, api_version)\u001b[0m\n\u001b[1;32m    294\u001b[0m             )\n\u001b[1;32m    295\u001b[0m         \u001b[0;32melse\u001b[0m\u001b[0;34m:\u001b[0m\u001b[0;34m\u001b[0m\u001b[0m\n\u001b[0;32m--> 296\u001b[0;31m             \u001b[0mresponse\u001b[0m \u001b[0;34m=\u001b[0m \u001b[0mrequest\u001b[0m\u001b[0;34m.\u001b[0m\u001b[0mexecute\u001b[0m\u001b[0;34m(\u001b[0m\u001b[0;34m)\u001b[0m\u001b[0;34m\u001b[0m\u001b[0m\n\u001b[0m\u001b[1;32m    297\u001b[0m             \u001b[0mself\u001b[0m\u001b[0;34m.\u001b[0m\u001b[0m_set_data\u001b[0m\u001b[0;34m(\u001b[0m\u001b[0mresponse\u001b[0m\u001b[0;34m.\u001b[0m\u001b[0m_json\u001b[0m\u001b[0;34m)\u001b[0m\u001b[0;34m\u001b[0m\u001b[0m\n\u001b[1;32m    298\u001b[0m             \u001b[0mself\u001b[0m\u001b[0;34m.\u001b[0m\u001b[0m_clear_history\u001b[0m\u001b[0;34m(\u001b[0m\u001b[0;34m)\u001b[0m\u001b[0;34m\u001b[0m\u001b[0m\n",
      "\u001b[0;32m~/anaconda3/lib/python3.6/site-packages/facebookads/api.py\u001b[0m in \u001b[0;36mexecute\u001b[0;34m(self)\u001b[0m\n\u001b[1;32m    665\u001b[0m                 \u001b[0mparams\u001b[0m\u001b[0;34m=\u001b[0m\u001b[0mparams\u001b[0m\u001b[0;34m,\u001b[0m\u001b[0;34m\u001b[0m\u001b[0m\n\u001b[1;32m    666\u001b[0m                 \u001b[0mfiles\u001b[0m\u001b[0;34m=\u001b[0m\u001b[0mfiles\u001b[0m\u001b[0;34m,\u001b[0m\u001b[0;34m\u001b[0m\u001b[0m\n\u001b[0;32m--> 667\u001b[0;31m                 \u001b[0mapi_version\u001b[0m\u001b[0;34m=\u001b[0m\u001b[0mself\u001b[0m\u001b[0;34m.\u001b[0m\u001b[0m_api_version\u001b[0m\u001b[0;34m,\u001b[0m\u001b[0;34m\u001b[0m\u001b[0m\n\u001b[0m\u001b[1;32m    668\u001b[0m             )\n\u001b[1;32m    669\u001b[0m             \u001b[0;32mif\u001b[0m \u001b[0mresponse\u001b[0m\u001b[0;34m.\u001b[0m\u001b[0merror\u001b[0m\u001b[0;34m(\u001b[0m\u001b[0;34m)\u001b[0m\u001b[0;34m:\u001b[0m\u001b[0;34m\u001b[0m\u001b[0m\n",
      "\u001b[0;32m~/anaconda3/lib/python3.6/site-packages/facebookads/api.py\u001b[0m in \u001b[0;36mcall\u001b[0;34m(self, method, path, params, headers, files, url_override, api_version)\u001b[0m\n\u001b[1;32m    328\u001b[0m \u001b[0;34m\u001b[0m\u001b[0m\n\u001b[1;32m    329\u001b[0m         \u001b[0;32mif\u001b[0m \u001b[0mfb_response\u001b[0m\u001b[0;34m.\u001b[0m\u001b[0mis_failure\u001b[0m\u001b[0;34m(\u001b[0m\u001b[0;34m)\u001b[0m\u001b[0;34m:\u001b[0m\u001b[0;34m\u001b[0m\u001b[0m\n\u001b[0;32m--> 330\u001b[0;31m             \u001b[0;32mraise\u001b[0m \u001b[0mfb_response\u001b[0m\u001b[0;34m.\u001b[0m\u001b[0merror\u001b[0m\u001b[0;34m(\u001b[0m\u001b[0;34m)\u001b[0m\u001b[0;34m\u001b[0m\u001b[0m\n\u001b[0m\u001b[1;32m    331\u001b[0m \u001b[0;34m\u001b[0m\u001b[0m\n\u001b[1;32m    332\u001b[0m         \u001b[0mself\u001b[0m\u001b[0;34m.\u001b[0m\u001b[0m_num_requests_succeeded\u001b[0m \u001b[0;34m+=\u001b[0m \u001b[0;36m1\u001b[0m\u001b[0;34m\u001b[0m\u001b[0m\n",
      "\u001b[0;31mFacebookRequestError\u001b[0m: \n\n  Message: Call was not successful\n  Method:  POST\n  Path:    https://graph.facebook.com/v2.11/act_153402327/adcreatives\n  Params:  {'name': 'AdCreative for Link Ad', 'object_story_spec': '{\"link_data\":{\"image_hash\":\"9bc45e3b0a49e8cd0a63e3a38489f902\",\"link\":\"https://facebook.com\",\"message\":\"try it out\"},\"page_id\":1456225704491934}'}\n\n  Status:  400\n  Response:\n    {\n      \"error\": {\n        \"message\": \"Invalid parameter\",\n        \"type\": \"OAuthException\",\n        \"code\": 100,\n        \"error_subcode\": 1885183,\n        \"is_transient\": false,\n        \"error_user_title\": \"Ads creative post was created by an app that is in development mode\",\n        \"error_user_msg\": \"Ads creative post was created by an app that is in development mode. It must be in public to create this ad.\",\n        \"fbtrace_id\": \"BJQlZLR8+/z\"\n      }\n    }\n"
     ]
    }
   ],
   "source": [
    "from facebookads.adobjects.adcreative import AdCreative\n",
    "from facebookads.adobjects.adcreativelinkdata import AdCreativeLinkData\n",
    "from facebookads.adobjects.adcreativeobjectstoryspec \\\n",
    "    import AdCreativeObjectStorySpec\n",
    "     \n",
    "\n",
    "from facebookads.adobjects.adimage import AdImage\n",
    "\n",
    "image = AdImage(parent_id='act_{0}'.format(my_account[\"account_id\"]))\n",
    "image[AdImage.Field.filename] = 'test.png'\n",
    "image.remote_create()\n",
    "\n",
    "# Output image Hash\n",
    "print(image[AdImage.Field.hash])\n",
    "\n",
    "link_data = AdCreativeLinkData()\n",
    "link_data[AdCreativeLinkData.Field.message] = 'try it out'\n",
    "link_data[AdCreativeLinkData.Field.link] = 'https://facebook.com'\n",
    "link_data[AdCreativeLinkData.Field.image_hash] = image[AdImage.Field.hash]\n",
    "\n",
    "object_story_spec = AdCreativeObjectStorySpec()\n",
    "object_story_spec[AdCreativeObjectStorySpec.Field.page_id] = 1456225704491934\n",
    "object_story_spec[AdCreativeObjectStorySpec.Field.link_data] = link_data\n",
    "\n",
    "creative = AdCreative(parent_id='act_{0}'.format(my_account[\"account_id\"]))\n",
    "creative[AdCreative.Field.name] = 'AdCreative for Link Ad'\n",
    "creative[AdCreative.Field.object_story_spec] = object_story_spec\n",
    "creative.remote_create()\n",
    "\n",
    "print(creative)"
   ]
  },
  {
   "cell_type": "code",
   "execution_count": 174,
   "metadata": {},
   "outputs": [
    {
     "name": "stdout",
     "output_type": "stream",
     "text": [
      "243c18183c24ffff\n"
     ]
    }
   ],
   "source": []
  },
  {
   "cell_type": "code",
   "execution_count": 189,
   "metadata": {},
   "outputs": [
    {
     "ename": "FacebookRequestError",
     "evalue": "\n\n  Message: Call was not successful\n  Method:  POST\n  Path:    https://graph.facebook.com/v2.11/1456225704491934/feed\n  Params:  {'link': 'https://facebook.com', 'message': 'Browse our latest products', 'caption': 'My caption', 'child_attachments': '[{\"description\":\"$8.99\",\"image_hash\":\"9bc45e3b0a49e8cd0a63e3a38489f902\",\"link\":\"https://facebook.com/product1\",\"name\":\"Product 1\"},{\"description\":\"$18.99\",\"image_hash\":\"9bc45e3b0a49e8cd0a63e3a38489f902\",\"link\":\"https://facebook.com/product2\",\"name\":\"Product 2\"},{\"description\":\"$28.99\",\"image_hash\":\"9bc45e3b0a49e8cd0a63e3a38489f902\",\"link\":\"https://facebook.com/product3\",\"name\":\"Product 3\"}]'}\n\n  Status:  400\n  Response:\n    {\n      \"error\": {\n        \"message\": \"(#10) Application does not have permission for this action\",\n        \"type\": \"OAuthException\",\n        \"code\": 10,\n        \"fbtrace_id\": \"EbgxnxhFidw\"\n      }\n    }\n",
     "output_type": "error",
     "traceback": [
      "\u001b[0;31m---------------------------------------------------------------------------\u001b[0m",
      "\u001b[0;31mFacebookRequestError\u001b[0m                      Traceback (most recent call last)",
      "\u001b[0;32m<ipython-input-189-eef2fb1865a4>\u001b[0m in \u001b[0;36m<module>\u001b[0;34m()\u001b[0m\n\u001b[1;32m     27\u001b[0m }\n\u001b[1;32m     28\u001b[0m \u001b[0;34m\u001b[0m\u001b[0m\n\u001b[0;32m---> 29\u001b[0;31m \u001b[0mdata\u001b[0m \u001b[0;34m=\u001b[0m \u001b[0mFacebookAdsApi\u001b[0m\u001b[0;34m.\u001b[0m\u001b[0mget_default_api\u001b[0m\u001b[0;34m(\u001b[0m\u001b[0;34m)\u001b[0m\u001b[0;34m.\u001b[0m   \u001b[0mcall\u001b[0m\u001b[0;34m(\u001b[0m\u001b[0;34m'POST'\u001b[0m\u001b[0;34m,\u001b[0m \u001b[0;34m(\u001b[0m\u001b[0;36m1456225704491934\u001b[0m\u001b[0;34m,\u001b[0m \u001b[0;34m'feed'\u001b[0m\u001b[0;34m)\u001b[0m\u001b[0;34m,\u001b[0m \u001b[0mparams\u001b[0m\u001b[0;34m)\u001b[0m\u001b[0;34m\u001b[0m\u001b[0m\n\u001b[0m",
      "\u001b[0;32m~/anaconda3/lib/python3.6/site-packages/facebookads/api.py\u001b[0m in \u001b[0;36mcall\u001b[0;34m(self, method, path, params, headers, files, url_override, api_version)\u001b[0m\n\u001b[1;32m    328\u001b[0m \u001b[0;34m\u001b[0m\u001b[0m\n\u001b[1;32m    329\u001b[0m         \u001b[0;32mif\u001b[0m \u001b[0mfb_response\u001b[0m\u001b[0;34m.\u001b[0m\u001b[0mis_failure\u001b[0m\u001b[0;34m(\u001b[0m\u001b[0;34m)\u001b[0m\u001b[0;34m:\u001b[0m\u001b[0;34m\u001b[0m\u001b[0m\n\u001b[0;32m--> 330\u001b[0;31m             \u001b[0;32mraise\u001b[0m \u001b[0mfb_response\u001b[0m\u001b[0;34m.\u001b[0m\u001b[0merror\u001b[0m\u001b[0;34m(\u001b[0m\u001b[0;34m)\u001b[0m\u001b[0;34m\u001b[0m\u001b[0m\n\u001b[0m\u001b[1;32m    331\u001b[0m \u001b[0;34m\u001b[0m\u001b[0m\n\u001b[1;32m    332\u001b[0m         \u001b[0mself\u001b[0m\u001b[0;34m.\u001b[0m\u001b[0m_num_requests_succeeded\u001b[0m \u001b[0;34m+=\u001b[0m \u001b[0;36m1\u001b[0m\u001b[0;34m\u001b[0m\u001b[0m\n",
      "\u001b[0;31mFacebookRequestError\u001b[0m: \n\n  Message: Call was not successful\n  Method:  POST\n  Path:    https://graph.facebook.com/v2.11/1456225704491934/feed\n  Params:  {'link': 'https://facebook.com', 'message': 'Browse our latest products', 'caption': 'My caption', 'child_attachments': '[{\"description\":\"$8.99\",\"image_hash\":\"9bc45e3b0a49e8cd0a63e3a38489f902\",\"link\":\"https://facebook.com/product1\",\"name\":\"Product 1\"},{\"description\":\"$18.99\",\"image_hash\":\"9bc45e3b0a49e8cd0a63e3a38489f902\",\"link\":\"https://facebook.com/product2\",\"name\":\"Product 2\"},{\"description\":\"$28.99\",\"image_hash\":\"9bc45e3b0a49e8cd0a63e3a38489f902\",\"link\":\"https://facebook.com/product3\",\"name\":\"Product 3\"}]'}\n\n  Status:  400\n  Response:\n    {\n      \"error\": {\n        \"message\": \"(#10) Application does not have permission for this action\",\n        \"type\": \"OAuthException\",\n        \"code\": 10,\n        \"fbtrace_id\": \"EbgxnxhFidw\"\n      }\n    }\n"
     ]
    }
   ],
   "source": [
    " \n",
    "\n",
    "params = {\n",
    "    'link': 'https://facebook.com',\n",
    "    'message': 'Browse our latest products',\n",
    "    'caption': 'My caption',\n",
    "    'child_attachments': [\n",
    "        {\n",
    "            'link': 'https://facebook.com' + '/product1',\n",
    "            'name': 'Product 1',\n",
    "            'description': '$8.99',\n",
    "            'image_hash': image[AdImage.Field.hash] \n",
    "        },\n",
    "        {\n",
    "            'link': 'https://facebook.com' + '/product2',\n",
    "            'name': 'Product 2',\n",
    "            'description': '$18.99',\n",
    "            'image_hash': image[AdImage.Field.hash] \n",
    "        },\n",
    "        {\n",
    "            'link': 'https://facebook.com' + '/product3',\n",
    "            'name': 'Product 3',\n",
    "            'description': '$28.99',\n",
    "            'image_hash': image[AdImage.Field.hash] \n",
    "        },\n",
    "    ],\n",
    "}\n",
    "\n",
    "data = FacebookAdsApi.get_default_api().\\\n",
    "    call('POST', (1456225704491934, 'feed'), params)"
   ]
  },
  {
   "cell_type": "code",
   "execution_count": null,
   "metadata": {
    "collapsed": true
   },
   "outputs": [],
   "source": []
  }
 ],
 "metadata": {
  "kernelspec": {
   "display_name": "Python 3",
   "language": "python",
   "name": "python3"
  },
  "language_info": {
   "codemirror_mode": {
    "name": "ipython",
    "version": 3
   },
   "file_extension": ".py",
   "mimetype": "text/x-python",
   "name": "python",
   "nbconvert_exporter": "python",
   "pygments_lexer": "ipython3",
   "version": "3.6.3"
  }
 },
 "nbformat": 4,
 "nbformat_minor": 2
}
