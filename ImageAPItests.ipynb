{
 "cells": [
  {
   "cell_type": "code",
   "execution_count": null,
   "metadata": {
    "collapsed": true
   },
   "outputs": [],
   "source": [
    "#get images based on product description\n",
    "from unittest import TestCase\n",
    "from python_pixabay import Pixabay\n",
    "import urllib.request\n",
    "from IPython.display import Image \n",
    "\n",
    "\n",
    "\n",
    "imageQuery1='dog'\n",
    "Price1=100\n",
    "\n",
    "imageQuery2=\"cat\"\n",
    "Price2=200\n",
    "\n",
    "\n",
    "\n",
    "imageQuery3=\"parrot\"\n",
    "Price3=300\n",
    "\n",
    "\n",
    "pix = Pixabay(\"7615608-e5e42eed07c9c35e14d7dea67\")\n",
    "\n",
    "imageUrl1=pix.image_search(q=imageQuery1)[\"hits\"][0][\"webformatURL\"]\n",
    "imageUrl2=pix.image_search(q=imageQuery2)[\"hits\"][1][\"webformatURL\"]\n",
    "imageUrl3=pix.image_search(q=imageQuery3)[\"hits\"][0][\"webformatURL\"]\n",
    "\n",
    "\n",
    "urllib.request.urlretrieve(imageUrl1, \"image1.png\")\n",
    "urllib.request.urlretrieve(imageUrl2, \"image2.png\")\n",
    "urllib.request.urlretrieve(imageUrl3, \"image3.png\")\n",
    "\n",
    "Image(imageUrl1)\n",
    " \n",
    "\n"
   ]
  }
 ],
 "metadata": {
  "kernelspec": {
   "display_name": "Python 3",
   "language": "python",
   "name": "python3"
  },
  "language_info": {
   "codemirror_mode": {
    "name": "ipython",
    "version": 3
   },
   "file_extension": ".py",
   "mimetype": "text/x-python",
   "name": "python",
   "nbconvert_exporter": "python",
   "pygments_lexer": "ipython3",
   "version": "3.6.3"
  }
 },
 "nbformat": 4,
 "nbformat_minor": 2
}
