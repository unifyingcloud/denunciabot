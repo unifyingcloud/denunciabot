{
 "cells": [
  {
   "cell_type": "code",
   "execution_count": 96,
   "metadata": {},
   "outputs": [
    {
     "data": {
      "text/plain": [
       "[<AdAccount> {\n",
       "     \"account_id\": \"153402327\",\n",
       "     \"id\": \"act_153402327\"\n",
       " }]"
      ]
     },
     "execution_count": 96,
     "metadata": {},
     "output_type": "execute_result"
    }
   ],
   "source": [
    "from facebookads.api import FacebookAdsApi\n",
    "from facebookads import adobjects\n",
    "from facebookads import FacebookSession\n",
    "from facebookads import FacebookAdsApi\n",
    "from facebookads.adobjects.adaccountuser import AdAccountUser\n",
    "from facebookads.adobjects.adaccount import AdAccount\n",
    "from facebookads.adobjects.campaign import Campaign\n",
    "from facebookads.exceptions import FacebookRequestError\n",
    "from facebookads.api import FacebookAdsApi\n",
    "from facebookads.adobjects.user import User\n",
    "\n",
    "\n",
    " "
   ]
  },
  {
   "cell_type": "code",
   "execution_count": 159,
   "metadata": {},
   "outputs": [
    {
     "data": {
      "text/plain": [
       "[<AdAccount> {\n",
       "     \"account_id\": \"153402327\",\n",
       "     \"id\": \"act_153402327\"\n",
       " }]"
      ]
     },
     "execution_count": 159,
     "metadata": {},
     "output_type": "execute_result"
    }
   ],
   "source": [
    "\n",
    "import os\n",
    "import logging\n",
    "import datetime\n",
    "\n",
    "from facebookads import FacebookAdsApi\n",
    "from facebookads.adobjects.campaign import Campaign\n",
    "from facebookads.adobjects.targetingsearch import TargetingSearch\n",
    "from facebookads.adobjects.targeting import Targeting\n",
    "from facebookads.adobjects.adaccount import AdAccount\n",
    "from facebookads.adobjects.adset import AdSet\n",
    "from facebookads.adobjects.adimage import AdImage\n",
    "from facebookads.adobjects.adcreative import AdCreative\n",
    "from facebookads.adobjects.adcreativelinkdata import AdCreativeLinkData\n",
    "from facebookads.adobjects.adcreativeobjectstoryspec import AdCreativeObjectStorySpec\n",
    "from facebookads.adobjects.ad import Ad\n",
    "\n",
    "my_app_id = '134839553877454'\n",
    "my_app_secret = '3a0b9b5f88dab087f7a19d6987ed586b'\n",
    "my_access_token = 'EAAB6ose15c4BAF1TkZBZAOlJ6Yqr884imDMwnI8pMlggZCp3wynLNdvx9AMF7krY2DXiPomZBCEIQKdHiFajdVIuivsmsD8H16ENBSZBZAMCqnfiEQxdIAo8rokwIEK13TB05BAXV10v7mUywLy4McvjAkQ3xJlFUi9etuH11ipaYazVYAVLHvfHRIeHDM1A0ZD'\n",
    "#//'proxies = {'http': '<HTTP_PROXY>', 'https': '<HTTPS_PROXY>'} # add proxies if needed\n",
    "FacebookAdsApi.init(my_app_id, my_app_secret, my_access_token)\n",
    "me = AdAccountUser(fbid='me')\n",
    "#FacebookAdsApi\n",
    "my_accounts = list(me.get_ad_accounts())\n",
    "\n",
    "\n",
    "myAccount=my_accounts[0]\n"
   ]
  },
  {
   "cell_type": "code",
   "execution_count": 160,
   "metadata": {},
   "outputs": [
    {
     "name": "stderr",
     "output_type": "stream",
     "text": [
      "WARNING:root:parent_id as a parameter of constructor is being deprecated.\n"
     ]
    },
    {
     "data": {
      "text/plain": [
       "<Campaign> {}"
      ]
     },
     "execution_count": 160,
     "metadata": {},
     "output_type": "execute_result"
    }
   ],
   "source": [
    "    campaign = Campaign(parent_id='act_{}'.format(myAccount[\"account_id\"]))\n",
    "    campaign   "
   ]
  },
  {
   "cell_type": "code",
   "execution_count": 161,
   "metadata": {},
   "outputs": [
    {
     "ename": "FacebookRequestError",
     "evalue": "\n\n  Message: Call was not successful\n  Method:  POST\n  Path:    https://graph.facebook.com/v2.11/act_153402327/campaigns\n  Params:  {'status': 'PAUSED', 'spend_cap': '101', 'name': 'test Campaign', 'objective': 'POST_ENGAGEMENT'}\n\n  Status:  400\n  Response:\n    {\n      \"error\": {\n        \"message\": \"Invalid parameter\",\n        \"type\": \"OAuthException\",\n        \"code\": 100,\n        \"error_subcode\": 1885056,\n        \"is_transient\": false,\n        \"error_user_title\": \"The maximum spend limit should not be less than the minimum\",\n        \"error_user_msg\": \"The maximum spend limit should not be less than the minimum $100.00.\",\n        \"fbtrace_id\": \"GSxIi/iZqY8\"\n      }\n    }\n",
     "output_type": "error",
     "traceback": [
      "\u001b[0;31m---------------------------------------------------------------------------\u001b[0m",
      "\u001b[0;31mFacebookRequestError\u001b[0m                      Traceback (most recent call last)",
      "\u001b[0;32m<ipython-input-161-0b5c779d25e4>\u001b[0m in \u001b[0;36m<module>\u001b[0;34m()\u001b[0m\n\u001b[1;32m      5\u001b[0m         })\n\u001b[1;32m      6\u001b[0m campaign.remote_create(params={\n\u001b[0;32m----> 7\u001b[0;31m             \u001b[0;34m'status'\u001b[0m\u001b[0;34m:\u001b[0m \u001b[0mCampaign\u001b[0m\u001b[0;34m.\u001b[0m\u001b[0mStatus\u001b[0m\u001b[0;34m.\u001b[0m\u001b[0mpaused\u001b[0m\u001b[0;34m,\u001b[0m\u001b[0;34m\u001b[0m\u001b[0m\n\u001b[0m\u001b[1;32m      8\u001b[0m         })\n",
      "\u001b[0;32m~/anaconda3/lib/python3.6/site-packages/facebookads/adobjects/abstractcrudobject.py\u001b[0m in \u001b[0;36mremote_create\u001b[0;34m(self, batch, failure, files, params, success, api_version)\u001b[0m\n\u001b[1;32m    294\u001b[0m             )\n\u001b[1;32m    295\u001b[0m         \u001b[0;32melse\u001b[0m\u001b[0;34m:\u001b[0m\u001b[0;34m\u001b[0m\u001b[0m\n\u001b[0;32m--> 296\u001b[0;31m             \u001b[0mresponse\u001b[0m \u001b[0;34m=\u001b[0m \u001b[0mrequest\u001b[0m\u001b[0;34m.\u001b[0m\u001b[0mexecute\u001b[0m\u001b[0;34m(\u001b[0m\u001b[0;34m)\u001b[0m\u001b[0;34m\u001b[0m\u001b[0m\n\u001b[0m\u001b[1;32m    297\u001b[0m             \u001b[0mself\u001b[0m\u001b[0;34m.\u001b[0m\u001b[0m_set_data\u001b[0m\u001b[0;34m(\u001b[0m\u001b[0mresponse\u001b[0m\u001b[0;34m.\u001b[0m\u001b[0m_json\u001b[0m\u001b[0;34m)\u001b[0m\u001b[0;34m\u001b[0m\u001b[0m\n\u001b[1;32m    298\u001b[0m             \u001b[0mself\u001b[0m\u001b[0;34m.\u001b[0m\u001b[0m_clear_history\u001b[0m\u001b[0;34m(\u001b[0m\u001b[0;34m)\u001b[0m\u001b[0;34m\u001b[0m\u001b[0m\n",
      "\u001b[0;32m~/anaconda3/lib/python3.6/site-packages/facebookads/api.py\u001b[0m in \u001b[0;36mexecute\u001b[0;34m(self)\u001b[0m\n\u001b[1;32m    665\u001b[0m                 \u001b[0mparams\u001b[0m\u001b[0;34m=\u001b[0m\u001b[0mparams\u001b[0m\u001b[0;34m,\u001b[0m\u001b[0;34m\u001b[0m\u001b[0m\n\u001b[1;32m    666\u001b[0m                 \u001b[0mfiles\u001b[0m\u001b[0;34m=\u001b[0m\u001b[0mfiles\u001b[0m\u001b[0;34m,\u001b[0m\u001b[0;34m\u001b[0m\u001b[0m\n\u001b[0;32m--> 667\u001b[0;31m                 \u001b[0mapi_version\u001b[0m\u001b[0;34m=\u001b[0m\u001b[0mself\u001b[0m\u001b[0;34m.\u001b[0m\u001b[0m_api_version\u001b[0m\u001b[0;34m,\u001b[0m\u001b[0;34m\u001b[0m\u001b[0m\n\u001b[0m\u001b[1;32m    668\u001b[0m             )\n\u001b[1;32m    669\u001b[0m             \u001b[0;32mif\u001b[0m \u001b[0mresponse\u001b[0m\u001b[0;34m.\u001b[0m\u001b[0merror\u001b[0m\u001b[0;34m(\u001b[0m\u001b[0;34m)\u001b[0m\u001b[0;34m:\u001b[0m\u001b[0;34m\u001b[0m\u001b[0m\n",
      "\u001b[0;32m~/anaconda3/lib/python3.6/site-packages/facebookads/api.py\u001b[0m in \u001b[0;36mcall\u001b[0;34m(self, method, path, params, headers, files, url_override, api_version)\u001b[0m\n\u001b[1;32m    328\u001b[0m \u001b[0;34m\u001b[0m\u001b[0m\n\u001b[1;32m    329\u001b[0m         \u001b[0;32mif\u001b[0m \u001b[0mfb_response\u001b[0m\u001b[0;34m.\u001b[0m\u001b[0mis_failure\u001b[0m\u001b[0;34m(\u001b[0m\u001b[0;34m)\u001b[0m\u001b[0;34m:\u001b[0m\u001b[0;34m\u001b[0m\u001b[0m\n\u001b[0;32m--> 330\u001b[0;31m             \u001b[0;32mraise\u001b[0m \u001b[0mfb_response\u001b[0m\u001b[0;34m.\u001b[0m\u001b[0merror\u001b[0m\u001b[0;34m(\u001b[0m\u001b[0;34m)\u001b[0m\u001b[0;34m\u001b[0m\u001b[0m\n\u001b[0m\u001b[1;32m    331\u001b[0m \u001b[0;34m\u001b[0m\u001b[0m\n\u001b[1;32m    332\u001b[0m         \u001b[0mself\u001b[0m\u001b[0;34m.\u001b[0m\u001b[0m_num_requests_succeeded\u001b[0m \u001b[0;34m+=\u001b[0m \u001b[0;36m1\u001b[0m\u001b[0;34m\u001b[0m\u001b[0m\n",
      "\u001b[0;31mFacebookRequestError\u001b[0m: \n\n  Message: Call was not successful\n  Method:  POST\n  Path:    https://graph.facebook.com/v2.11/act_153402327/campaigns\n  Params:  {'status': 'PAUSED', 'spend_cap': '101', 'name': 'test Campaign', 'objective': 'POST_ENGAGEMENT'}\n\n  Status:  400\n  Response:\n    {\n      \"error\": {\n        \"message\": \"Invalid parameter\",\n        \"type\": \"OAuthException\",\n        \"code\": 100,\n        \"error_subcode\": 1885056,\n        \"is_transient\": false,\n        \"error_user_title\": \"The maximum spend limit should not be less than the minimum\",\n        \"error_user_msg\": \"The maximum spend limit should not be less than the minimum $100.00.\",\n        \"fbtrace_id\": \"GSxIi/iZqY8\"\n      }\n    }\n"
     ]
    }
   ],
   "source": [
    "campaign.update({\n",
    "            Campaign.Field.spend_cap: \"1\",\n",
    "            Campaign.Field.name: \"test Campaign\" ,\n",
    "            Campaign.Field.objective: \"POST_ENGAGEMENT\",\n",
    "        })\n",
    "campaign.remote_create(params={\n",
    "            'status': Campaign.Status.paused,\n",
    "        })"
   ]
  },
  {
   "cell_type": "code",
   "execution_count": null,
   "metadata": {
    "collapsed": true
   },
   "outputs": [],
   "source": []
  }
 ],
 "metadata": {
  "kernelspec": {
   "display_name": "Python 3",
   "language": "python",
   "name": "python3"
  },
  "language_info": {
   "codemirror_mode": {
    "name": "ipython",
    "version": 3
   },
   "file_extension": ".py",
   "mimetype": "text/x-python",
   "name": "python",
   "nbconvert_exporter": "python",
   "pygments_lexer": "ipython3",
   "version": "3.6.3"
  }
 },
 "nbformat": 4,
 "nbformat_minor": 2
}
